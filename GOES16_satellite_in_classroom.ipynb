{
 "cells": [
  {
   "cell_type": "markdown",
   "metadata": {},
   "source": [
    "# GOES-16 In The Classroom Using Python\n",
    "\n",
    "There are any number of ways to utilize the new GOES-16 (and GOES-17) in the classroom from Synoptic meteorology to radiation. This lecture will use Jupyter notebooks with Python to read, calculate, and visualize GOES-16 GOES Rebroadcast (GRB) feed data that is accessed from a THREDDS data server. The data from the GRB are radiance values for a particular channel (1-16), which need to be modified to plot the typical variables that are plotted and used by meteorologists."
   ]
  },
  {
   "cell_type": "markdown",
   "metadata": {},
   "source": [
    "## Importing Needed Libraries\n",
    "\n",
    "There are a number of different libraries that are needed to read, calculate, and plot satellite data. The following is a list of the libraries used in this lecture.\n",
    "- datetime (https://docs.python.org/3/library/datetime.html)\n",
    "- cartopy (https://scitools.org.uk/cartopy/docs/latest/)\n",
    "- matplotlib (https://matplotlib.org)\n",
    "- metpy (https://unidata.github.io/MetPy/latest/index.html)\n",
    "- netCDF4 (http://unidata.github.io/netcdf4-python/)\n",
    "- numpy (https://docs.scipy.org/doc/numpy-1.14.0/reference/)\n",
    "- siphon (https://unidata.github.io/siphon/latest/index.html)\n",
    "- scipy (https://docs.scipy.org/doc/scipy/reference/)\n",
    "- xarray (http://xarray.pydata.org/en/stable/)"
   ]
  },
  {
   "cell_type": "code",
   "execution_count": null,
   "metadata": {},
   "outputs": [],
   "source": [
    "import warnings\n",
    "warnings.filterwarnings('ignore')\n",
    "\n",
    "from datetime import datetime\n",
    "\n",
    "import cartopy.crs as ccrs\n",
    "import cartopy.feature as cfeature\n",
    "import matplotlib.pyplot as plt\n",
    "import metpy.calc as mpcalc\n",
    "from metpy.plots import ctables\n",
    "from metpy.units import units\n",
    "from netCDF4 import num2date\n",
    "import numpy as np\n",
    "from scipy.ndimage import gaussian_filter\n",
    "from siphon.catalog import TDSCatalog\n",
    "import xarray as xr"
   ]
  },
  {
   "cell_type": "markdown",
   "metadata": {},
   "source": [
    "## GOES-16 Data - Access from Python\n",
    "As seen in previous presentations, there are a number of different ways to access GOES-16 data. Here we will use the Siphon (https://unidata.github.io/siphon/latest/index.html) library to find the most recent file and obtain the URL for the OPeNDAP access method.\n",
    "\n",
    "Recent GOES-16 Data available at: http://thredds-test.unidata.ucar.edu/thredds/catalog/satellite/goes16/catalog.html\n",
    "\n",
    "**Note:** When using Siphon, switch from using \".html\" to \".xml\" - if you don't, Siphon will make the change for you and give you a warning message."
   ]
  },
  {
   "cell_type": "code",
   "execution_count": null,
   "metadata": {},
   "outputs": [],
   "source": [
    "# Set channel number (1-16)\n",
    "# Channels 1-6 (Visible)\n",
    "# Channel 7 (daylight/nighttime band)\n",
    "# Channels 8-10 (Water Vapor)\n",
    "# Channels 11-16 (IR)\n",
    "\n",
    "channel = 14\n",
    "catalog_url = 'http://thredds-test.unidata.ucar.edu/thredds/catalog/satellite/'\\\n",
    "              'goes16/GRB16/ABI/CONUS/Channel{:02d}/current/'.format(channel)\n",
    "current_goes16 = TDSCatalog(catalog_url+'catalog.xml')\n",
    "\n",
    "latest_file = current_goes16.datasets[-1]\n",
    "latest_file_url = latest_file.access_urls['OPENDAP']\n",
    "print(latest_file_url)"
   ]
  },
  {
   "cell_type": "markdown",
   "metadata": {},
   "source": [
    "### Remote data read\n",
    "We will use the Xarray library to remotely read the data from the THREDDS server using the URL we found (and is printed above).\n",
    "\n",
    "By using Xarray we will have access to a data handle that we can couple that with the metpy library to allow us easier access to the appropriate map projection information needed for plotting.\n",
    "\n",
    "Note: Xarray is \"lazy\" meaning that it is not going to actually download the data until it need to access it. This is great in the case of needing to subset data prior to using it in a calculation because it will only bring back the data that you need and not the whole dataset."
   ]
  },
  {
   "cell_type": "code",
   "execution_count": null,
   "metadata": {},
   "outputs": [],
   "source": [
    "# Access the remote file on the THREDDS server\n",
    "ds = xr.open_dataset(latest_file_url)\n",
    "ds"
   ]
  },
  {
   "cell_type": "code",
   "execution_count": null,
   "metadata": {},
   "outputs": [],
   "source": [
    "# Get projection information from the file\n",
    "rad = ds.metpy.parse_cf('Rad')\n",
    "dataproj = rad.metpy.cartopy_crs\n",
    "\n",
    "# Grab coordinate data\n",
    "x = rad.x\n",
    "y = rad.y\n",
    "\n",
    "# Grab time from file and convert to a nice format\n",
    "vtime = datetime.strptime(ds.time_coverage_end, '%Y-%m-%dT%H:%M:%S.%fZ')"
   ]
  },
  {
   "cell_type": "code",
   "execution_count": null,
   "metadata": {},
   "outputs": [],
   "source": [
    "# Isolate the radiance values from the dataset\n",
    "# Note: the data isn't downloaded here, just metadata\n",
    "ir_rad = ds.Rad\n",
    "print(ir_rad)"
   ]
  },
  {
   "cell_type": "markdown",
   "metadata": {},
   "source": [
    "## Radiance to Brightness Temperature\n",
    "\n",
    "The GRB feed has the top of the atmosphere radiance values with the units given above. The data that we are accessing is from Channel 14, which happens to be the 11 micron channel, which is an infrared channel. Typically we would want to plot the Brightness Temperature (BT). This can be accomplished by using our knowledge of radiation through Plank's Function."
   ]
  },
  {
   "cell_type": "markdown",
   "metadata": {},
   "source": [
    "### Radiance based on Plank function\n",
    "\n",
    "\\begin{equation}\n",
    "L_\\lambda = \\frac{fk_1}{e^{fk2/T}-1}\n",
    "\\end{equation}"
   ]
  },
  {
   "cell_type": "markdown",
   "metadata": {},
   "source": [
    "### Inverse Plank Function to get Brightness Temperature\n",
    "\n",
    "\n",
    "\\begin{equation}\n",
    "T = \\frac{fk_2}{ln \\bigg[\\frac{fk_1}{L_\\lambda} + 1\\bigg]}\n",
    "\\end{equation}\n",
    "\n",
    "\n",
    "\\begin{equation}\n",
    "BT = T*bc_2 + bc_1\n",
    "\\end{equation}\n",
    "\n",
    "Equation 3-5 from page 22 (NOAA 2018)\n",
    "\n",
    "where\n",
    "\n",
    "$fk_1$ is the 1st Plank Constant\n",
    "\n",
    "$fk_2$ is the 2nd Plank Constant\n",
    "\n",
    "$bc_1$ is a spectral bandpass offest for BT\n",
    "\n",
    "$bc_2$ is a spectral bandpass scale factor for BT\n",
    "\n",
    "Source: NOAA 2018, https://www.star.nesdis.noaa.gov/goesr/docs/ATBD/Imagery.pdf"
   ]
  },
  {
   "cell_type": "markdown",
   "metadata": {},
   "source": [
    "The constants that are needed to complete the calculation are different depending on the exact channel used and are included im the the file as variables."
   ]
  },
  {
   "cell_type": "code",
   "execution_count": null,
   "metadata": {},
   "outputs": [],
   "source": [
    "print(ds.planck_bc1)\n",
    "print(ds.planck_bc2)\n",
    "print(ds.planck_fk1)\n",
    "print(ds.planck_fk2)"
   ]
  },
  {
   "cell_type": "code",
   "execution_count": null,
   "metadata": {},
   "outputs": [],
   "source": [
    "# Save values needed for conversion to variables\n",
    "fk1 = ds.planck_fk1\n",
    "fk2 = ds.planck_fk2\n",
    "bc1 = ds.planck_bc1\n",
    "bc2 = ds.planck_bc2\n",
    "\n",
    "# Calculate the brightness temperature from inverse Plank\n",
    "T = fk2 / (np.log((fk1 / ir_rad) + 1))\n",
    "\n",
    "# Add scale and offest correction to obtain final BT for particular channel\n",
    "ir_BT = bc2*T + bc1"
   ]
  },
  {
   "cell_type": "markdown",
   "metadata": {},
   "source": [
    "### Create a plot of our Brightness Temperature data\n",
    "\n",
    "The following code uses a combination of matplotlib, cartopy, and metpy to plot our BT data on a map in the correct projection wth an appropriate colormap."
   ]
  },
  {
   "cell_type": "code",
   "execution_count": null,
   "metadata": {},
   "outputs": [],
   "source": [
    "# Start figure and set up projected axis for plotting\n",
    "fig = plt.figure(1, figsize=(20,10))\n",
    "ax = plt.subplot(111, projection=dataproj)\n",
    "\n",
    "# Use cartopy feature module to add coastlines, country borders, and state lines\n",
    "ax.add_feature(cfeature.COASTLINE.with_scale('50m'), edgecolor='lightgrey', linewidths=0.75)\n",
    "ax.add_feature(cfeature.BORDERS.with_scale('50m'), edgecolor='lightgrey', linewidths=0.75)\n",
    "ax.add_feature(cfeature.STATES.with_scale('50m'), edgecolor='lightgrey', linewidths=0.75)\n",
    "\n",
    "# Get a colormap from metpy with a range of brightness values\n",
    "ir_norm, ir_cmap = ctables.registry.get_with_range('ir_drgb_r', 190, 350)\n",
    "\n",
    "# Plot the BT data with a colorbar describing the colors by temperature\n",
    "img = ax.imshow(ir_BT, extent=(x.min(), x.max(), y.min(), y.max()), origin='upper', cmap=ir_cmap, norm=ir_norm)\n",
    "plt.colorbar(img, orientation='vertical', pad=0, aspect=50, ticks=range(190,351,10))\n",
    "\n",
    "# Add some titles\n",
    "plt.title('GOES-16 Infrared Imagery ({:0.1f} um)'.format(ds.band_wavelength.data[0]), loc='left')\n",
    "plt.title('{0:%Y-%m-%d %H:%M:%S}'.format(vtime), loc='right')\n",
    "\n",
    "# Show the plot\n",
    "plt.tight_layout()\n",
    "plt.show()\n",
    "# plt.savefig('IR_satellite.png')"
   ]
  },
  {
   "cell_type": "markdown",
   "metadata": {},
   "source": [
    "## Radiance to Emitted Energy\n",
    "\n",
    "Now lets use a channel that is responsive to the amount of water vapor (Channel 9). Here we are going to use the same process that we used for the infrared channel above to get to the Brightness Temperature"
   ]
  },
  {
   "cell_type": "code",
   "execution_count": null,
   "metadata": {},
   "outputs": [],
   "source": [
    "channel = 9\n",
    "catalog_url = 'http://thredds-test.unidata.ucar.edu/thredds/catalog/satellite/'\\\n",
    "              'goes16/GRB16/ABI/CONUS/Channel{:02d}/current/'.format(channel)\n",
    "current_goes16 = TDSCatalog(catalog_url+'catalog.xml')\n",
    "\n",
    "latest_file = current_goes16.datasets[-1]\n",
    "latest_file_url = latest_file.access_urls['OPENDAP']\n",
    "print(latest_file_url)\n",
    "\n",
    "ds = xr.open_dataset(latest_file_url)\n",
    "rad = ds.metpy.parse_cf('Rad')\n",
    "\n",
    "dataproj = rad.metpy.cartopy_crs\n",
    "\n",
    "x = rad.x\n",
    "y = rad.y\n",
    "\n",
    "vtime = datetime.strptime(ds.time_coverage_end, '%Y-%m-%dT%H:%M:%S.%fZ')\n",
    "\n",
    "wv_rad = ds.Rad\n",
    "\n",
    "fk1 = ds.planck_fk1\n",
    "fk2 = ds.planck_fk2\n",
    "bc1 = ds.planck_bc1\n",
    "bc2 = ds.planck_bc2\n",
    "\n",
    "wv_BT = (fk2 / (np.log((fk1/wv_rad)+1)) - bc1)/bc2"
   ]
  },
  {
   "cell_type": "code",
   "execution_count": null,
   "metadata": {},
   "outputs": [],
   "source": [
    "print(ds.band_wavelength.data[0], ds.band_wavelength.units)"
   ]
  },
  {
   "cell_type": "markdown",
   "metadata": {},
   "source": [
    "### Stefan-Boltzman Law\n",
    "\n",
    "Outgoing longwave radiation is absorbed by water vapor in the wavelength range of 5.2-7.2 microns, which means that less energy escapes to space. We can use the Stefan-Boltzman law to confirm that is the case.\n",
    "\n",
    "\\begin{equation}\n",
    "E = \\sigma T^4\n",
    "\\end{equation}\n",
    "\n",
    "where $\\sigma$ is the Stefan-Boltzman constant $5.67e^{-8}$"
   ]
  },
  {
   "cell_type": "markdown",
   "metadata": {},
   "source": [
    "![Electromagnetic Spectrum](https://cosmoscon.files.wordpress.com/2011/12/atmospheric_transmission.png)\n",
    "\n",
    "Source: https://cosmoscon.files.wordpress.com/2011/12/atmospheric_transmission.png"
   ]
  },
  {
   "cell_type": "code",
   "execution_count": null,
   "metadata": {},
   "outputs": [],
   "source": [
    "# Set Stefan-Boltzman Constant\n",
    "sb_constant = 5.67e-8\n",
    "\n",
    "# Calculate Emitted Energy based on Stefan-Boltzman relationship\n",
    "E = sb_constant*wv_BT**4\n",
    "\n",
    "print(E.min().data)"
   ]
  },
  {
   "cell_type": "code",
   "execution_count": null,
   "metadata": {},
   "outputs": [],
   "source": [
    "# Start figure and set up projected axis for plotting\n",
    "fig = plt.figure(1, figsize=(20,10))\n",
    "ax = plt.subplot(111, projection=dataproj)\n",
    "\n",
    "# Add geopolitical lines\n",
    "ax.add_feature(cfeature.COASTLINE.with_scale('50m'), edgecolor='lightgrey', linewidths=0.75)\n",
    "ax.add_feature(cfeature.BORDERS.with_scale('50m'), edgecolor='lightgrey', linewidths=0.75)\n",
    "ax.add_feature(cfeature.STATES.with_scale('50m'), edgecolor='lightgrey', linewidths=0.75)\n",
    "\n",
    "# Plot emitted energy based on Stefan-Boltzman\n",
    "img = ax.imshow(E, extent=(x.min(), x.max(), y.min(), y.max()), origin='upper', cmap=plt.cm.gray)\n",
    "plt.colorbar(img, orientation='vertical', pad=0, aspect=50)\n",
    "\n",
    "# Plot titles\n",
    "plt.title('GOES-16 Infrared Imagery ({:0.1f} um) - Emitted Energy (Stefan-Boltzman; $W/m^2$)'.format(ds.band_wavelength.data[0]),\n",
    "          loc='left')\n",
    "plt.title('{0:%Y-%m-%d %H:%M:%S}'.format(vtime), loc='right')\n",
    "\n",
    "plt.tight_layout()\n",
    "plt.show()\n",
    "# plt.savefig('WV_Stefan_Boltzman.png')"
   ]
  },
  {
   "cell_type": "markdown",
   "metadata": {},
   "source": [
    "Notice that the dark areas on this plot are where there is a lot of water vapor in the atmospheric column, meaning the outgoing longwave radiation is being absorbed at this particular wavelength.\n",
    "\n",
    "We can compare that to how we would normally view a water vapor image from a Geostationary satellite."
   ]
  },
  {
   "cell_type": "markdown",
   "metadata": {},
   "source": [
    "#### Plot regular Water Vapor Imagery"
   ]
  },
  {
   "cell_type": "code",
   "execution_count": null,
   "metadata": {},
   "outputs": [],
   "source": [
    "# Start figure and set up projected axis for plotting\n",
    "fig = plt.figure(1, figsize=(20,10))\n",
    "ax = plt.subplot(111, projection=dataproj)\n",
    "\n",
    "# Add geopolitical lines\n",
    "ax.add_feature(cfeature.COASTLINE.with_scale('50m'), edgecolor='tab:red', linewidths=0.75)\n",
    "ax.add_feature(cfeature.BORDERS.with_scale('50m'), edgecolor='tab:red', linewidths=0.75)\n",
    "ax.add_feature(cfeature.STATES.with_scale('50m'), edgecolor='tab:red', linewidths=0.75)\n",
    "\n",
    "# WV Colormap from MetPy\n",
    "wv_norm, wv_cmap = ctables.registry.get_with_range('WVCIMSS_r', 190, 280)\n",
    "\n",
    "# Plot BT WV using the colormap\n",
    "img = ax.imshow(wv_BT, extent=(x.min(), x.max(), y.min(), y.max()), origin='upper', cmap=wv_cmap, norm=wv_norm)\n",
    "plt.colorbar(img, orientation='vertical', pad=0, aspect=50, ticks=range(180,290,5))\n",
    "\n",
    "# Plot titles\n",
    "plt.title('GOES-16 Water Vapor Imagery', loc='left')\n",
    "plt.title('{0:%Y-%m-%d %H:%M:%S}'.format(vtime), loc='right')\n",
    "\n",
    "plt.tight_layout()\n",
    "plt.show()\n",
    "# plt.savefig('WV_satellite.png')"
   ]
  },
  {
   "cell_type": "markdown",
   "metadata": {},
   "source": [
    "## Overlay Isentropic and Satellite Imagery\n",
    "\n",
    "Another great way to use satellite data is to use it in combination with another data source, such as a model analysis. Here we will use the BEST GFS to plot visible satellite data imagery with an isentropic surface. We'll need to use MetPy to calalculate atmospheric values on an isentropic surface (e.g., 300 K), then an overlay will be relatively easy when we use Cartopy to do some transofmraiton from lat/lon coordinates to the Geostationary projection."
   ]
  },
  {
   "cell_type": "markdown",
   "metadata": {},
   "source": [
    "### Visible Satellite Imagery\n",
    "We'll continue to use the same source for the Visible statllite imagery (Channel 1), but here we won't need to convert to Brightness Temperature, we'll convert from radiance to reflectance factor (i.e., Albedo) and apply a gamma correction. This will take just a little longer than the IR data due to the finer spatial resolution of the visible data."
   ]
  },
  {
   "cell_type": "code",
   "execution_count": null,
   "metadata": {},
   "outputs": [],
   "source": [
    "channel = 1\n",
    "catalog_url = 'http://thredds-test.unidata.ucar.edu/thredds/catalog/satellite/'\\\n",
    "              'goes16/GRB16/ABI/CONUS/Channel{:02d}/current/'.format(channel)\n",
    "current_goes16 = TDSCatalog(catalog_url+'catalog.xml')\n",
    "\n",
    "latest_file = current_goes16.datasets[-1]\n",
    "latest_file_url = latest_file.access_urls['OPENDAP']\n",
    "print(latest_file_url)\n",
    "\n",
    "ds = xr.open_dataset(latest_file_url)\n",
    "\n",
    "# Get projection from satellite data\n",
    "rad = ds.metpy.parse_cf('Rad')\n",
    "dataproj = rad.metpy.cartopy_crs\n",
    "\n",
    "# Grab coordinate data\n",
    "x = rad.x\n",
    "y = rad.y\n",
    "\n",
    "# Grab time from file and convert to a nice format\n",
    "vtime = datetime.strptime(ds.time_coverage_end, '%Y-%m-%dT%H:%M:%S.%fZ')\n",
    "\n",
    "# Get Visible data, convert to reflectance factor and apply gamma correction\n",
    "vis = np.sqrt(ds.Rad*ds.kappa0)"
   ]
  },
  {
   "cell_type": "code",
   "execution_count": null,
   "metadata": {},
   "outputs": [],
   "source": [
    "# Start figure and set up projection on axes for plotting\n",
    "fig = plt.figure(1, figsize=(18,12))\n",
    "ax = plt.subplot(111, projection=dataproj)\n",
    "\n",
    "# Plot geopolitical lines\n",
    "ax.add_feature(cfeature.COASTLINE.with_scale('50m'), edgecolor='tab:blue', linewidths=0.75)\n",
    "ax.add_feature(cfeature.BORDERS.with_scale('50m'), edgecolor='tab:blue', linewidths=0.75)\n",
    "ax.add_feature(cfeature.STATES.with_scale('50m'), edgecolor='tab:blue', linewidths=0.75)\n",
    "\n",
    "# Plot gamma correction visible reflectance values\n",
    "ax.imshow(vis, extent=(x.min(), x.max(), y.min(), y.max()), origin='upper', cmap=plt.cm.Greys_r)\n",
    "\n",
    "plt.tight_layout()\n",
    "plt.show()"
   ]
  },
  {
   "cell_type": "markdown",
   "metadata": {},
   "source": [
    "### GFS Data\n",
    "\n",
    "The GFS provides a nice global dataset that can be used to obtain the most recent (nearset 6 hour analysis) to overlay on top of satellite imagery. We can use the same functionality from Siphon and Xarray to read the remote dataset."
   ]
  },
  {
   "cell_type": "code",
   "execution_count": null,
   "metadata": {},
   "outputs": [],
   "source": [
    "catalog_url = 'https://thredds.ucar.edu/thredds/catalog/grib/NCEP/GFS/Global_0p5deg_ana/latest.xml'\n",
    "latest_gfs = TDSCatalog(catalog_url).datasets[0].access_urls['OPENDAP']\n",
    "\n",
    "ds = xr.open_dataset(latest_gfs)\n",
    "ds"
   ]
  },
  {
   "cell_type": "markdown",
   "metadata": {},
   "source": [
    "Extracting the necessary variables is completed below. Since we do not desire to have the full global data and only need the values that surround the CONUS, we'll set up a slice variable so that we only download the data that we desire."
   ]
  },
  {
   "cell_type": "code",
   "execution_count": null,
   "metadata": {},
   "outputs": [],
   "source": [
    "# Get the coordinate data\n",
    "lats = ds.lat.data\n",
    "lons = ds.lon.data\n",
    "\n",
    "# Set subset slice for the geographic extent of data to limit download\n",
    "lon_slice = slice(400,601)\n",
    "lat_slice = slice(10,160)\n",
    "\n",
    "# Subset lat/lon values\n",
    "slons = lons[lon_slice]\n",
    "slats = lats[lat_slice]\n",
    "print(360-slons)\n",
    "print(slats)\n",
    "\n",
    "# Get the values needed to compute isentropic coordinates and subset on read\n",
    "pres = ds[ds.Temperature_isobaric.dims[1]].data[:] * units('Pa')\n",
    "tmpk = gaussian_filter(ds['Temperature_isobaric'].data[0,:,lat_slice,lon_slice], sigma=1.0) * units.K\n",
    "uwnd = gaussian_filter(ds['u-component_of_wind_isobaric'].data[0,:,lat_slice,lon_slice], sigma=1.0) * units('m/s')\n",
    "vwnd = gaussian_filter(ds['v-component_of_wind_isobaric'].data[0,:,lat_slice,lon_slice], sigma=1.0) * units('m/s')\n",
    "\n",
    "# Calculate the Potential Temperature from TMPK and PRES using MetPy\n",
    "thta = mpcalc.potential_temperature(pres[:, None, None], tmpk)\n",
    "\n",
    "# Get time value and put into a better format\n",
    "vtime = datetime.strptime(str(ds.Geopotential_height_isobaric.time.data[0].astype('datetime64[ms]')),\n",
    "                          '%Y-%m-%dT%H:%M:%S.%f')"
   ]
  },
  {
   "cell_type": "code",
   "execution_count": null,
   "metadata": {},
   "outputs": [],
   "source": [
    "# Set levels to compute isentropic surfaces\n",
    "isentlevs = list(range(280,331,2)) * units.K\n",
    "print(isentlevs)\n",
    "\n",
    "# Use MetPy functionality to computer isentropic levels\n",
    "isent_anal = mpcalc.isentropic_interpolation(isentlevs,\n",
    "                                             pres,\n",
    "                                             tmpk,\n",
    "                                             uwnd,\n",
    "                                             vwnd)\n",
    "\n",
    "isentprs, isentu, isentv = isent_anal\n",
    "\n",
    "# Convert U and V to units of knots\n",
    "isentu.ito('kt')\n",
    "isentv.ito('kt')"
   ]
  },
  {
   "cell_type": "code",
   "execution_count": null,
   "metadata": {},
   "outputs": [],
   "source": [
    "# Set which isentropic level to plot from the above list\n",
    "ilev = list(isentlevs.m).index(310)\n",
    "\n",
    "# Set GFS data coordinate reference system, \n",
    "# need to know this for transformation purposes\n",
    "datacrs = ccrs.PlateCarree()\n",
    "\n",
    "# Start figure and set up axes for plotting on the Geostationary projection\n",
    "fig = plt.figure(1, figsize=(14,12))\n",
    "ax = plt.subplot(111, projection=dataproj)\n",
    "ax.set_extent([x.min(), x.max(), y.min(), y.max()], dataproj)\n",
    "\n",
    "# Add geopolitical lines for reference\n",
    "ax.add_feature(cfeature.COASTLINE.with_scale('50m'))\n",
    "ax.add_feature(cfeature.STATES.with_scale('50m'))\n",
    "\n",
    "# Plot the visible satellite imagery\n",
    "ax.imshow(vis, extent=(x.min(), x.max(), y.min(), y.max()), origin='upper', cmap=plt.cm.Greys_r)\n",
    "\n",
    "# Plot the pressure of the isentropic surface\n",
    "clevs_pres = np.arange(0, 1100, 50)\n",
    "cs1 = ax.contour(slons, slats, isentprs[ilev], clevs_pres, colors='yellow',\n",
    "                 linestyles='dashed', transform=datacrs)\n",
    "plt.clabel(cs1, fmt='%d', fontsize='large')\n",
    "\n",
    "# Plot the every fifth wind barb in knots on the isentropic surface\n",
    "ax.barbs(slons[::5], slats[::5], isentu[ilev,::5,::5].m, isentv[ilev,::5,::5].m, pivot='middle',\n",
    "         color='cyan', transform=datacrs)\n",
    "\n",
    "# Plot some titles\n",
    "plt.title('{}K GFS Pressure (hPa), GOES-16 Channel 1 (Visible), and Wind Barbs (kt)'.format(isentlevs[ilev].m), loc='left')\n",
    "plt.title('Valid Time: {}'.format(vtime), loc='right')\n",
    "\n",
    "plt.tight_layout()\n",
    "plt.show()\n",
    "# plt.savefig('overlay_isent_visible_satellite.png')"
   ]
  },
  {
   "cell_type": "markdown",
   "metadata": {},
   "source": [
    "## Create your own Overlay Map with Satellite Imagery\n",
    "\n",
    "In the cell below, create your own map that uses Satellite Imagery (any channel) with some GFS data (e.g., 300-hPa wind speed). Use code from various cells above to help - don't feel like you need to start over at the beginning."
   ]
  },
  {
   "cell_type": "code",
   "execution_count": null,
   "metadata": {},
   "outputs": [],
   "source": []
  }
 ],
 "metadata": {
  "kernelspec": {
   "display_name": "Python 3",
   "language": "python",
   "name": "python3"
  },
  "language_info": {
   "codemirror_mode": {
    "name": "ipython",
    "version": 3
   },
   "file_extension": ".py",
   "mimetype": "text/x-python",
   "name": "python",
   "nbconvert_exporter": "python",
   "pygments_lexer": "ipython3",
   "version": "3.6.4"
  }
 },
 "nbformat": 4,
 "nbformat_minor": 2
}
